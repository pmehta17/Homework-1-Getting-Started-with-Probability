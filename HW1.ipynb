{
 "cells": [
  {
   "cell_type": "markdown",
   "source": [
    "# Homework 1: Getting Started with Probability \n",
    " Pratham Mehta \n",
    " CS 3501: Foundations of Data Analysis"
   ],
   "metadata": {
    "collapsed": false
   },
   "id": "68fc866ef2c74919"
  },
  {
   "cell_type": "markdown",
   "source": [
    "## Question 1\n",
    "\n",
    "> The UVA men’s and women’s basketball teams are both playing Virginia Tech on the same\n",
    "> day. There is a 60% chance that the UVA men win and a 60% chance that the UVA women\n",
    "> win. In addition, there is a 75% chance that UVA wins at least one of the games (that is,\n",
    "> they win the men’s game, or the women’s game, or both). Let M denote the event that the\n",
    "> UVA men win, and let W denote the event that the UVA women win.\n",
    "\n",
    "\n",
    "a) What does "
   ],
   "metadata": {
    "collapsed": false
   },
   "id": "b46f8ee9f56ead3"
  }
 ],
 "metadata": {
  "kernelspec": {
   "display_name": "Python 3",
   "language": "python",
   "name": "python3"
  },
  "language_info": {
   "codemirror_mode": {
    "name": "ipython",
    "version": 2
   },
   "file_extension": ".py",
   "mimetype": "text/x-python",
   "name": "python",
   "nbconvert_exporter": "python",
   "pygments_lexer": "ipython2",
   "version": "2.7.6"
  }
 },
 "nbformat": 4,
 "nbformat_minor": 5
}
