{
 "cells": [
  {
   "cell_type": "markdown",
   "source": [
    "# Homework 1: Getting Started with Probability \n",
    " Pratham Mehta \n",
    " \n",
    " CS 3501: Foundations of Data Analysis"
   ],
   "metadata": {
    "collapsed": false
   },
   "id": "68fc866ef2c74919"
  },
  {
   "cell_type": "markdown",
   "source": [
    "## Question 1\n",
    "\n",
    "The UVA men’s and women’s basketball teams are both playing Virginia Tech on the same\n",
    "day. There is a 60% chance that the UVA men win and a 60% chance that the UVA women\n",
    "win. In addition, there is a 75% chance that UVA wins at least one of the games (that is,\n",
    "they win the men’s game, or the women’s game, or both). Let M denote the event that the\n",
    "UVA men win, and let W denote the event that the UVA women win.\n",
    "\n",
    "\n",
    "\n",
    "a) What does *P(M $\\union$ W)* mean in English? What is its value?\n",
    "\n",
    "> *P(M $\\union$ W)* represents the probability that either the UVA\n",
    " > mens team or the UVA women team win their games. \n",
    "\n",
    "> P(M \\intersection W) = P(M) + P(W) - \n",
    "> $ *P(M $\\union$ W)* = P(M) + P(W) - P(M \\intersection W) = 0.6 \n",
    "\n",
    "\n",
    " \n",
    "b) What is the probability that UVA wins both games?\n",
    "\n",
    "> P(M $\\union$ W) = 0.75\n",
    "\n",
    "\n",
    "c) What does *P(M | W)* mean in English? What is its value?\n",
    "\n",
    "> *P(M | W)* means the probability that the men's team wins, given that the women's team wins. We calculate it with the following: \n",
    "> \n",
    "> P(M | W) = $\\frac{P(M \\intersection W}{P(W)} = \\frac{0.45}{0.6} = 0.75\n",
    "\n",
    "d) What is the probability that UVA wins **exactly** one game (men or women, but not both)?\n",
    "\n",
    "> P(M \\union W) - P(M \\intersect W) = 0.75 - 0.45 = 0.3\n",
    "\n",
    "\n",
    "e) If the UVA women lose, what is the probabilty that the UVA men also lose? \n",
    "\n",
    "> P(!W) = 1 - P(W) = 0.4\n",
    "> P(!M | !W) = \\frac{P(!M \\intersect !W)}{P(!W)} = \\frac{0.15]{0.4} =  0.375\n",
    "\n",
    "\n"
   ],
   "metadata": {
    "collapsed": false
   },
   "id": "b46f8ee9f56ead3"
  },
  {
   "cell_type": "markdown",
   "source": [
    "## Question 2\n",
    "\n",
    "> You have two black socks, two white socks, two red socks, and two blue socks in your sock\n",
    "> drawer. If you pick two socks out at random (without looking!), what is the probability that\n",
    "> they match? Explain how you arrived at the answer, don’t just give a number!\n",
    "\n",
    "\n",
    "Getting matching socks randomly would mean we draw two socks of the same color consecutively. \n",
    "\n",
    "    ex. P(S_1 = black) is the probability that the first sock is black. \n",
    "\n",
    "P(S_2 = black | S_1 = black) + P(S_2 = white | S_1 = white) + P(S_2 = red | S_1 = red) + P(S_2 = blue | S_1 = blue) = $\\frac{2}{8} * \\frac{1}{7}} * 4 = 1/7$"
   ],
   "metadata": {
    "collapsed": false
   },
   "id": "c5383fc8b1dbdc11"
  },
  {
   "cell_type": "markdown",
   "source": [
    "## Question 3\n",
    "\n",
    "> According to the American Lung Association, there is a 0.13% chance to develop lung cancer.\n",
    "> Of the people who have lung cancer, 90% of them are smokers. In the population of people\n",
    "> who do not have lung cancer, 16.9% are smokers.\n",
    "\n",
    "\n",
    "> (a) What percentage of the total population are smokers?\n",
    "\n",
    "\n",
    "> (b) If you are a smoker, what is your probability to develop lung cancer?\n",
    "\n",
    "\n",
    "> (c) If you are not a smoker, what is your probability to develop lung cancer?\n"
   ],
   "metadata": {
    "collapsed": false
   },
   "id": "f500b54d22b3fd9a"
  }
 ],
 "metadata": {
  "kernelspec": {
   "display_name": "Python 3",
   "language": "python",
   "name": "python3"
  },
  "language_info": {
   "codemirror_mode": {
    "name": "ipython",
    "version": 2
   },
   "file_extension": ".py",
   "mimetype": "text/x-python",
   "name": "python",
   "nbconvert_exporter": "python",
   "pygments_lexer": "ipython2",
   "version": "2.7.6"
  }
 },
 "nbformat": 4,
 "nbformat_minor": 5
}
