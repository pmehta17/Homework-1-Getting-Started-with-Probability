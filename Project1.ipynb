{
 "nbformat": 4,
 "nbformat_minor": 0,
 "metadata": {
  "colab": {
   "provenance": []
  },
  "kernelspec": {
   "name": "python3",
   "language": "python",
   "display_name": "Python 3 (ipykernel)"
  },
  "language_info": {
   "name": "python"
  }
 },
 "cells": [
  {
   "cell_type": "markdown",
   "source": [
    "# Project 1: An Exploration of Counting Methods\n",
    "\n",
    "*APMA 3100: Probability*\n",
    "\n",
    "Pratham Mehta (cbm4kx)\n",
    "\n",
    "Honor Pledge: I,  Pratham Mehta, certify that I have neither received nor given aid on this project.\n",
    "\n"
   ],
   "metadata": {
    "id": "_8EQbPUKkdsP"
   }
  },
  {
   "cell_type": "markdown",
   "source": [
    "## Question 1\n",
    "\n",
    "A student is registering for classes for next semester. The courses she can enroll in are calculus, physics,\n",
    "organic chemistry, history, literature, French, and astronomy. She has room for four classes in her\n",
    "schedule, at the following times: 9am, 10am, 11am, 12pm. She wants to count all the possible versions of\n",
    "her schedule. Additionally, the student’s mother is helping her buy textbooks for her classes. Each course\n",
    "listed above has a specific textbook that is required with it. Therefore, a book order for the student will\n",
    "consist of four textbooks. Book orders are automatically listed in alphabetical order by the class subject\n",
    "(i.e. one book order could be astronomy, French, organic chemistry, physics). The student’s mother\n",
    "wants to count all the possible book orders that she could be making"
   ],
   "metadata": {
    "id": "InQ1uL17l7qU"
   }
  },
  {
   "cell_type": "markdown",
   "source": [
    "a. Make the beginnings of a carefully ordered list of all possible book orders. Your list should include a minimum of 20 outcomes and not miss any of the outcomes if they were to finish the list.\n",
    "\n",
    "```\n",
    "1: astronomy, calculus, french, history\n",
    "2: astronomy, calculus, french, literature\n",
    "3: astronomy, calculus, french, organic chemistry\n",
    "4: astronomy, calculus, french, physics\n",
    "5: astronomy, calculus, history, literature\n",
    "6: astronomy, calculus, history, organic chemistry\n",
    "7: astronomy, calculus, history, physics\n",
    "8: astronomy, calculus, literature, organic chemistry\n",
    "9: astronomy, calculus, literature, physics\n",
    "10: astronomy, calculus, organic chemistry, physics\n",
    "11: astronomy, french, history, literature\n",
    "12: astronomy, french, history, organic chemistry\n",
    "13: astronomy, french, history, physics\n",
    "14: astronomy, french, literature, organic chemistry\n",
    "15: astronomy, french, literature, physics\n",
    "16: astronomy, french, organic chemistry, physics\n",
    "17: astronomy, history, literature, organic chemistry\n",
    "18: astronomy, history, literature, physics\n",
    "19: astronomy, history, organic chemistry, physics\n",
    "20: astronomy, literature, organic chemistry, physics\n",
    "21: calculus, french, history, literature\n",
    "22: calculus, french, history, organic chemistry\n",
    "23: calculus, french, history, physics\n",
    "24: calculus, french, literature, organic chemistry\n",
    "25: calculus, french, literature, physics\n",
    "26: calculus, french, organic chemistry, physics\n",
    "27: calculus, history, literature, organic chemistry\n",
    "28: calculus, history, literature, physics\n",
    "29: calculus, history, organic chemistry, physics\n",
    "30: calculus, literature, organic chemistry, physics\n",
    "31: french, history, literature, organic chemistry\n",
    "32: french, history, literature, physics\n",
    "33: french, history, organic chemistry, physics\n",
    "34: french, literature, organic chemistry, physics\n",
    "35: history, literature, organic chemistry, physics\n",
    "\n",
    "```\n"
   ],
   "metadata": {
    "id": "h__0iKLomB7m"
   }
  },
  {
   "cell_type": "markdown",
   "source": [
    "b. Now, make the beginnings of a carefully ordered list of all possible versions of the studetn's schedule, assuming she can't register for multiple slots. Your list should include at minimum of 20 outcomes, and should be ordered systematically so that someone can see and continue the pattern and not miss any outcomes if they were to finish the list.\n",
    "\n",
    "\n"
   ],
   "metadata": {
    "id": "KaZRYWfSxV0i"
   }
  },
  {
   "cell_type": "markdown",
   "source": [
    "```\n",
    "1. ['astronomy', 'calculus', 'french', 'history']\n",
    "2. ['astronomy', 'calculus', 'french', 'literature']\n",
    "3. ['astronomy', 'calculus', 'french', 'organic chemistry']\n",
    "4. ['astronomy', 'calculus', 'french', 'physics']\n",
    "5. ['astronomy', 'calculus', 'history', 'french']\n",
    "6. ['astronomy', 'calculus', 'history', 'literature']\n",
    "7. ['astronomy', 'calculus', 'history', 'organic chemistry']\n",
    "8. ['astronomy', 'calculus', 'history', 'physics']\n",
    "9. ['astronomy', 'calculus', 'literature', 'french']\n",
    "10. ['astronomy', 'calculus', 'literature', 'history']\n",
    "11. ['astronomy', 'calculus', 'literature', 'organic chemistry']\n",
    "12. ['astronomy', 'calculus', 'literature', 'physics']\n",
    "13. ['astronomy', 'calculus', 'organic chemistry', 'french']\n",
    "14. ['astronomy', 'calculus', 'organic chemistry', 'history']\n",
    "15. ['astronomy', 'calculus', 'organic chemistry', 'literature']\n",
    "16. ['astronomy', 'calculus', 'organic chemistry', 'physics']\n",
    "17. ['astronomy', 'calculus', 'physics', 'french']\n",
    "18. ['astronomy', 'calculus', 'physics', 'history']\n",
    "19. ['astronomy', 'calculus', 'physics', 'literature']\n",
    "20. ['astronomy', 'calculus', 'physics', 'organic chemistry']\n",
    "21. ['astronomy', 'french', 'calculus', 'history']\n",
    "22. ['astronomy', 'french', 'calculus', 'literature']\n",
    "23. ['astronomy', 'french', 'calculus', 'organic chemistry']\n",
    "24. ['astronomy', 'french', 'calculus', 'physics']\n",
    "25. ['astronomy', 'french', 'history', 'calculus']\n",
    "26. ['astronomy', 'french', 'history', 'literature']\n",
    "27. ['astronomy', 'french', 'history', 'organic chemistry']\n",
    "28. ['astronomy', 'french', 'history', 'physics']\n",
    "29. ['astronomy', 'french', 'literature', 'calculus']\n",
    "30. ['astronomy', 'french', 'literature', 'history']\n",
    "```\n"
   ],
   "metadata": {
    "id": "PAMZgEZ66crK"
   }
  },
  {
   "cell_type": "markdown",
   "source": [
    "c. Here is a program written in Python.\n",
    "Does this count the possible book orders, schedules, or neither? Breifly explain.\n",
    "\n",
    "> The code in the given screenshot counts the number of book orders because the first for loop iterates through with the variable `a`. The second loop iterates through the same list, with variable `b`. However, in this case we will never get physics before calculus because `a` is initalized at index `0`, and none of the other loops are iterating backwards. So, we are only counting the number of combinations.\n",
    "\n"
   ],
   "metadata": {
    "id": "vgwK1bgLx54c"
   }
  },
  {
   "cell_type": "markdown",
   "source": [
    "d. Write a program using for loops that *lists AND counts* all possible book orders. **Paste your code below. What are the first 20 outcomes that your program lists? What is the total number of outcomes?**"
   ],
   "metadata": {
    "id": "2CbT0osjAN9S"
   }
  },
  {
   "cell_type": "code",
   "outputs": [
    {
     "name": "stdout",
     "output_type": "stream",
     "text": [
      "1: astronomy, calculus, french, history\n",
      "2: astronomy, calculus, french, literature\n",
      "3: astronomy, calculus, french, organic chemistry\n",
      "4: astronomy, calculus, french, physics\n",
      "5: astronomy, calculus, history, literature\n",
      "6: astronomy, calculus, history, organic chemistry\n",
      "7: astronomy, calculus, history, physics\n",
      "8: astronomy, calculus, literature, organic chemistry\n",
      "9: astronomy, calculus, literature, physics\n",
      "10: astronomy, calculus, organic chemistry, physics\n",
      "11: astronomy, french, history, literature\n",
      "12: astronomy, french, history, organic chemistry\n",
      "13: astronomy, french, history, physics\n",
      "14: astronomy, french, literature, organic chemistry\n",
      "15: astronomy, french, literature, physics\n",
      "16: astronomy, french, organic chemistry, physics\n",
      "17: astronomy, history, literature, organic chemistry\n",
      "18: astronomy, history, literature, physics\n",
      "19: astronomy, history, organic chemistry, physics\n",
      "20: astronomy, literature, organic chemistry, physics\n",
      "21: calculus, french, history, literature\n",
      "22: calculus, french, history, organic chemistry\n",
      "23: calculus, french, history, physics\n",
      "24: calculus, french, literature, organic chemistry\n",
      "25: calculus, french, literature, physics\n",
      "26: calculus, french, organic chemistry, physics\n",
      "27: calculus, history, literature, organic chemistry\n",
      "28: calculus, history, literature, physics\n",
      "29: calculus, history, organic chemistry, physics\n",
      "30: calculus, literature, organic chemistry, physics\n",
      "31: french, history, literature, organic chemistry\n",
      "32: french, history, literature, physics\n",
      "33: french, history, organic chemistry, physics\n",
      "34: french, literature, organic chemistry, physics\n",
      "35: history, literature, organic chemistry, physics\n",
      "Total Possible Book Orders: 35\n"
     ]
    }
   ],
   "source": [
    "# Write a program that uses for loops that lists and counts all possible book orders\n",
    "\n",
    "classes = [\"calculus\", \"physics\", 'organic chemistry', 'history', 'literature', 'french', \"astronomy\"]\n",
    "classes.sort()\n",
    "total_orders = 0\n",
    "\n",
    "\n",
    "for i in range(0, len(classes)):\n",
    "   for j in range(i+1, len(classes)):\n",
    "     for k in range(j+1, len(classes)):\n",
    "       for l in range(k+1, len(classes)):\n",
    "         total_orders +=1\n",
    "         print(f\"{total_orders}: {classes[i]}, { classes[j]}, {classes[k]}, {classes[l]}\")\n",
    "\n",
    "print(\"Total Possible Book Orders:\", total_orders)\n"
   ],
   "metadata": {
    "collapsed": false,
    "ExecuteTime": {
     "end_time": "2024-02-10T04:39:37.435259Z",
     "start_time": "2024-02-10T04:39:37.379997400Z"
    }
   },
   "execution_count": 4
  },
  {
   "cell_type": "markdown",
   "source": [
    "## Question 2\n",
    "\n",
    "An 8 digit password is required to have three 0's and five 1's. You will determine how many unique passwords are possible.\n",
    "\n",
    "a. Write a program that lists and counts the unique passwords.\n",
    "\n",
    "> This program represents the binary password with a 3 digit integer, where each number in the integer represents the index of a 0. For example, 137 would represent 01101110 because 037 tells us the 0s are at indexes 0, 3, and 7.\n",
    "\n",
    "> This proram works with nested for loops so we can run through all possible combinations. We increase the integer that keeps track of the 0s, print out the output, and increase the count.\n",
    "\n",
    "> The program runs through all possible numbers by limiting the range up to 7. Moreover, it ensures we don't use unallowed integers like 122 by initizliing each nested for loop to be incremented by the previous counter.\n",
    "\n"
   ],
   "metadata": {
    "id": "ozDXiNkPyFPJ"
   }
  },
  {
   "cell_type": "code",
   "outputs": [
    {
     "name": "stdout",
     "output_type": "stream",
     "text": [
      "1. 00011111\n",
      "2. 00101111\n",
      "3. 00110111\n",
      "4. 00111011\n",
      "5. 00111101\n",
      "6. 00111110\n",
      "7. 01001111\n",
      "8. 01010111\n",
      "9. 01011011\n",
      "10. 01011101\n",
      "11. 01011110\n",
      "12. 01100111\n",
      "13. 01101011\n",
      "14. 01101101\n",
      "15. 01101110\n",
      "16. 01110011\n",
      "17. 01110101\n",
      "18. 01110110\n",
      "19. 01111001\n",
      "20. 01111010\n",
      "21. 01111100\n",
      "22. 10001111\n",
      "23. 10010111\n",
      "24. 10011011\n",
      "25. 10011101\n",
      "26. 10011110\n",
      "27. 10100111\n",
      "28. 10101011\n",
      "29. 10101101\n",
      "30. 10101110\n",
      "31. 10110011\n",
      "32. 10110101\n",
      "33. 10110110\n",
      "34. 10111001\n",
      "35. 10111010\n",
      "36. 10111100\n",
      "37. 11000111\n",
      "38. 11001011\n",
      "39. 11001101\n",
      "40. 11001110\n",
      "41. 11010011\n",
      "42. 11010101\n",
      "43. 11010110\n",
      "44. 11011001\n",
      "45. 11011010\n",
      "46. 11011100\n",
      "47. 11100011\n",
      "48. 11100101\n",
      "49. 11100110\n",
      "50. 11101001\n",
      "51. 11101010\n",
      "52. 11101100\n",
      "53. 11110001\n",
      "54. 11110010\n",
      "55. 11110100\n",
      "56. 11111000\n",
      "There are 56 possible ways to arrange an 8 digit password with three 0s and five 1s\n"
     ]
    }
   ],
   "source": [
    "count = 0\n",
    "for i in range(8):  # Iterate through all possible indexes for zeros\n",
    "    for j in range(i + 1, 8):\n",
    "        for k in range(j + 1, 8):\n",
    "            password = ['1'] * 8  # Initialize password with all ones\n",
    "            password[i] = '0'  # Set zeros at selected indexes\n",
    "            password[j] = '0'\n",
    "            password[k] = '0'\n",
    "            count = count + 1\n",
    "\n",
    "            print(str(count) + \".\" , ''.join(password))\n",
    "\n",
    "print(f\"There are {count} possible ways to arrange an 8 digit password with three 0s and five 1s\")\n",
    "\n"
   ],
   "metadata": {
    "collapsed": false,
    "ExecuteTime": {
     "end_time": "2024-02-10T04:40:48.617201100Z",
     "start_time": "2024-02-10T04:40:48.486057200Z"
    }
   },
   "execution_count": 5
  },
  {
   "cell_type": "markdown",
   "source": [
    "b. Now suppose a 30-digit password is required to have thirteen 0’s and seventeen 1’s. You don’t need to\n",
    "list all the possible passwords, but you need to determine how many exist. You may solve this however\n",
    "you wish (you don’t have to write a program), but briefly compare your method to what you used in part\n",
    "(a) and justify your chosen method.\n",
    "\n",
    "\n",
    "> We know the password is 30 numbers, and we know we have seventeen 1s and thirteen 0s. So,\n",
    ">\n",
    ">$ \\binom{30}{13} =  $\n",
    ">$ \\frac{30!} {(13)(17!)} = $\n",
    ">$ 119759850 $\n",
    ">\n",
    "> The method here is different than above, because we are using combinitorics formulas to calculate the value, whereas above we used a brute-force approach, listing and counting all possible passwords.\n",
    "However, in both examples we kep track of values that weren't allowed and repeats. Here, we did it by dividing by the ${(13)(17!)}$, whereas in the previous question we added conditions in the loops to avoid coming across values that were illegal in the context of this question."
   ],
   "metadata": {
    "id": "X_AJAOB19_KW"
   }
  },
  {
   "cell_type": "markdown",
   "source": [
    "## Question 3\n",
    "\n",
    "An 8-digit password is required to have exactly three 0’s. The other 5 digits can be any number 1-7, but\n",
    "numbers 1-7 may not be repeated"
   ],
   "metadata": {
    "id": "IUXHBdhfMbyy"
   }
  },
  {
   "cell_type": "markdown",
   "source": [
    "a. Again, consider different options for notating possible outcomes. (Hint: it may be easier to think of a way to notate the location of the 0’s, rather than just writing the outcomes as a list of 8 digits) Then make a list of at least 20 of the possible passwords by hand. (List the outcomes in an ordered, intentional way so as not to miss any if you kept going.) Make sure you explain the notation you’re using for the passwords.\n",
    "\n",
    "> There is no notation here. The password $00123456$ translates explicitly to $00123456$.\n",
    ">\n",
    ">1. 00123456 \n",
    ">2. 00123457\n",
    ">3. 00123467\n",
    ">4. 00123567\n",
    ">5. 00124567\n",
    ">6. 00134567\n",
    ">7. 00213456\n",
    ">8. 00213457\n",
    ">9. 00213467\n",
    ">10. 00213567\n",
    ">11. 00214567\n",
    ">12. 00234567\n",
    ">13. 00312456\n",
    ">14. 00312457\n",
    ">15. 00312467\n",
    ">16. 00312567\n",
    ">17. 00314567\n",
    ">18. 00324567\n",
    ">19. 00412356\n",
    ">20. 00412357\n",
    ">21. 00412367\n",
    ">22. 00412567\n",
    ">23. 00413567\n",
    ">24. 00423567\n",
    ">25. 00512346\n"
   ],
   "metadata": {
    "id": "w1gFN2grMhp8"
   }
  },
  {
   "cell_type": "markdown",
   "source": [
    "b. Determine how many unique passwords exist. You do not have to write a program to solve but you can if you choose. However, if you compute your answer be sure to justify it fully.\n",
    "\n",
    "> To calculate the total number of unique passwords that can be created given the conditions, I will first calculate the combinations of having three positions for the zeroes:\n",
    ">\n",
    ">$ \\binom{8}{3} =  $\n",
    "> $ \\frac{8!} {(3!)(5!)} = $\n",
    "> $ 56 $\n",
    ">\n",
    "> There are a total of $56$ ways to arrange the 0s in the password. Now, for each combination of these 0s, we can arrange the numbers 1-7 for the\n",
    " >remaining 5 positions. That gives us\n",
    ">\n",
    ">\n",
    ">$ \\frac{7!}{(7-5)!} =  $\n",
    ">$ 2520 $\n",
    ">\n",
    "> We have 56 ways to arrange the zeroes, and for each of the 56 ways we have 2520 ways to arrange the remaining numbers. So, we can create a total of $(56)(2520) = 141120$ passwords"
   ],
   "metadata": {
    "id": "ud4IuUiehAdJ"
   }
  },
  {
   "cell_type": "markdown",
   "source": [
    "c. Suppose that you have a password with *m* digits required to have exactly *n* 0's. The other *(m-n)* digits can be any numbr 1-9 but may not be repeated. How many unique passwords can exist? (Your asnwer should be a mathematical expression written in terms of *m* and *n*\n",
    "\n",
    "\n",
    "> Using our example from above, the total way to arrange the 0s are as following:\n",
    ">\n",
    ">$ \\binom{m}{n} =  $\n",
    "> $ \\frac{m!} {(n!)(m - n)!} $\n",
    ">\n",
    "> For the remaining digits, we have a total of $m - n$ digits, and we can use any number 1-9, given we do not repeat any values.\n",
    ">\n",
    ">$ \\binom{9}{(m-n))} =  $\n",
    "> $ \\frac{9!} {(9 - (m-n))!}$\n",
    ">\n",
    "> The total number of passwords of $m$ digits with $n$ 0s is given as\n",
    "> $ \\frac{m!} {(n!)(m - n)!} *  \\frac{9!} {(9 - (m-n))!}$\n",
    "\n"
   ],
   "metadata": {
    "id": "hHIFQGh5hTvV"
   }
  },
  {
   "cell_type": "markdown",
   "source": [
    "## Question 4\n",
    "A 5-letter password is to be constructed from the following letters: A, B, C, D, and E and the password\n",
    "must contain exactly 3 of the letters. (Obviously at least one of them will need to be used more than once to\n",
    "create a 5-letter password.)\n"
   ],
   "metadata": {
    "id": "2N-PJCfThv4D"
   }
  },
  {
   "cell_type": "markdown",
   "source": [
    "a. Suppose A,B, and C are the letters selected and we use A twice, B twice, and C once. How many\n",
    "different passwords exist in this scenario?\n",
    "\n",
    "\n",
    "> We have 5 letters. A repeats twice, B repeats twice, and C only once. So, the total passwords possible here are\n",
    ">\n",
    "> $ \\frac{5!}{2! * 2! * 1!} = 30 $"
   ],
   "metadata": {
    "id": "igrPzmNLJBKb"
   }
  },
  {
   "cell_type": "markdown",
   "source": [
    "b. Suppose A,B, and C are the letters selected and there are no other restrictions. How many\n",
    "different passwords exist in this scenario?\n",
    "\n",
    "> We want to make a 5 letter password, and we have 3 letters. With no restrictions, the number of passwords we can create is $3^5$, because for each of the five characters in the password we have 3 options.\n",
    "\n"
   ],
   "metadata": {
    "id": "QV2RyvJgh4uy"
   }
  },
  {
   "cell_type": "markdown",
   "source": [
    "c. Now suppose we don’t put any restrictions on the letters chosen. (It could be A,B, and C, or it could\n",
    "be A, C, and D, or it could be B, D, and E, etc.) How many different passwords exist in this scenario\n",
    "\n",
    "> Here, we have 5 total letters, and we want to find all combinations of passwords. First, I will find the total number of possible letter sets we can get (ex. A, C, D or A, B, E). Because each set has the same restrictions and the same cardinality, they will have the same possible password arrangments.\n",
    ">\n",
    "> Total number of letter sets we can make:\n",
    "> $ 5 * 4 * 3 = 60 $\n",
    ">\n",
    "> The number of combinations for each set:\n",
    "> $ 3^5 = 243 $ (from part B) \\\n",
    "> Therefore, we have a total 0f $60 * 243 = 14580 $ different passwords"
   ],
   "metadata": {
    "id": "rpN7-1ZHh4xA"
   }
  }
 ]
}
